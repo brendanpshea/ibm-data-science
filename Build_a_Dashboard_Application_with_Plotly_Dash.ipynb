{
  "nbformat": 4,
  "nbformat_minor": 0,
  "metadata": {
    "colab": {
      "name": "Build a Dashboard Application with Plotly Dash.ipynb",
      "provenance": [],
      "collapsed_sections": [],
      "authorship_tag": "ABX9TyM+wMI28ymhytf14JVGqnbd",
      "include_colab_link": true
    },
    "kernelspec": {
      "name": "python3",
      "display_name": "Python 3"
    },
    "language_info": {
      "name": "python"
    }
  },
  "cells": [
    {
      "cell_type": "markdown",
      "metadata": {
        "id": "view-in-github",
        "colab_type": "text"
      },
      "source": [
        "<a href=\"https://colab.research.google.com/github/brendanpshea/ibm-data-science/blob/main/Build_a_Dashboard_Application_with_Plotly_Dash.ipynb\" target=\"_parent\"><img src=\"https://colab.research.google.com/assets/colab-badge.svg\" alt=\"Open In Colab\"/></a>"
      ]
    },
    {
      "cell_type": "markdown",
      "source": [
        "Install required packages for lab."
      ],
      "metadata": {
        "id": "r1FOZd44aQTV"
      }
    },
    {
      "cell_type": "code",
      "execution_count": null,
      "metadata": {
        "colab": {
          "base_uri": "https://localhost:8080/"
        },
        "id": "TAfHIHTuZ7cB",
        "outputId": "95851ac2-6f04-46cf-8987-ce1600fbbbd8"
      },
      "outputs": [
        {
          "output_type": "stream",
          "name": "stdout",
          "text": [
            "Requirement already satisfied: pandas in /usr/local/lib/python3.7/dist-packages (1.3.5)\n",
            "Requirement already satisfied: dash in /usr/local/lib/python3.7/dist-packages (2.1.0)\n",
            "Requirement already satisfied: pytz>=2017.3 in /usr/local/lib/python3.7/dist-packages (from pandas) (2018.9)\n",
            "Requirement already satisfied: numpy>=1.17.3 in /usr/local/lib/python3.7/dist-packages (from pandas) (1.19.5)\n",
            "Requirement already satisfied: python-dateutil>=2.7.3 in /usr/local/lib/python3.7/dist-packages (from pandas) (2.8.2)\n",
            "Requirement already satisfied: six>=1.5 in /usr/local/lib/python3.7/dist-packages (from python-dateutil>=2.7.3->pandas) (1.15.0)\n",
            "Requirement already satisfied: dash-core-components==2.0.0 in /usr/local/lib/python3.7/dist-packages (from dash) (2.0.0)\n",
            "Requirement already satisfied: Flask>=1.0.4 in /usr/local/lib/python3.7/dist-packages (from dash) (1.1.4)\n",
            "Requirement already satisfied: dash-html-components==2.0.0 in /usr/local/lib/python3.7/dist-packages (from dash) (2.0.0)\n",
            "Requirement already satisfied: plotly>=5.0.0 in /usr/local/lib/python3.7/dist-packages (from dash) (5.5.0)\n",
            "Requirement already satisfied: dash-table==5.0.0 in /usr/local/lib/python3.7/dist-packages (from dash) (5.0.0)\n",
            "Requirement already satisfied: flask-compress in /usr/local/lib/python3.7/dist-packages (from dash) (1.10.1)\n",
            "Requirement already satisfied: itsdangerous<2.0,>=0.24 in /usr/local/lib/python3.7/dist-packages (from Flask>=1.0.4->dash) (1.1.0)\n",
            "Requirement already satisfied: click<8.0,>=5.1 in /usr/local/lib/python3.7/dist-packages (from Flask>=1.0.4->dash) (7.1.2)\n",
            "Requirement already satisfied: Werkzeug<2.0,>=0.15 in /usr/local/lib/python3.7/dist-packages (from Flask>=1.0.4->dash) (1.0.1)\n",
            "Requirement already satisfied: Jinja2<3.0,>=2.10.1 in /usr/local/lib/python3.7/dist-packages (from Flask>=1.0.4->dash) (2.11.3)\n",
            "Requirement already satisfied: MarkupSafe>=0.23 in /usr/local/lib/python3.7/dist-packages (from Jinja2<3.0,>=2.10.1->Flask>=1.0.4->dash) (2.0.1)\n",
            "Requirement already satisfied: tenacity>=6.2.0 in /usr/local/lib/python3.7/dist-packages (from plotly>=5.0.0->dash) (8.0.1)\n",
            "Requirement already satisfied: brotli in /usr/local/lib/python3.7/dist-packages (from flask-compress->dash) (1.0.9)\n",
            "Requirement already satisfied: wget in /usr/local/lib/python3.7/dist-packages (3.2)\n"
          ]
        }
      ],
      "source": [
        "!pip install pandas dash\n",
        "!pip install wget"
      ]
    },
    {
      "cell_type": "markdown",
      "source": [
        "Now, download needed files."
      ],
      "metadata": {
        "id": "TeHJ13IWaRtc"
      }
    },
    {
      "cell_type": "code",
      "source": [
        "!wget \"https://cf-courses-data.s3.us.cloud-object-storage.appdomain.cloud/IBM-DS0321EN-SkillsNetwork/labs/module_3/spacex_dash_app.py\"\n",
        "!wget \"https://cf-courses-data.s3.us.cloud-object-storage.appdomain.cloud/IBM-DS0321EN-SkillsNetwork/datasets/spacex_launch_dash.csv\""
      ],
      "metadata": {
        "colab": {
          "base_uri": "https://localhost:8080/"
        },
        "id": "FIWB8MjIafws",
        "outputId": "cbae974c-4116-4fd0-f603-33afc7d6c9c2"
      },
      "execution_count": null,
      "outputs": [
        {
          "output_type": "stream",
          "name": "stdout",
          "text": [
            "--2022-02-04 21:02:45--  https://cf-courses-data.s3.us.cloud-object-storage.appdomain.cloud/IBM-DS0321EN-SkillsNetwork/labs/module_3/spacex_dash_app.py\n",
            "Resolving cf-courses-data.s3.us.cloud-object-storage.appdomain.cloud (cf-courses-data.s3.us.cloud-object-storage.appdomain.cloud)... 198.23.119.245\n",
            "Connecting to cf-courses-data.s3.us.cloud-object-storage.appdomain.cloud (cf-courses-data.s3.us.cloud-object-storage.appdomain.cloud)|198.23.119.245|:443... connected.\n",
            "HTTP request sent, awaiting response... 200 OK\n",
            "Length: 2110 (2.1K) [text/x-python]\n",
            "Saving to: ‘spacex_dash_app.py.2’\n",
            "\n",
            "spacex_dash_app.py. 100%[===================>]   2.06K  --.-KB/s    in 0s      \n",
            "\n",
            "2022-02-04 21:02:45 (287 MB/s) - ‘spacex_dash_app.py.2’ saved [2110/2110]\n",
            "\n",
            "--2022-02-04 21:02:45--  https://cf-courses-data.s3.us.cloud-object-storage.appdomain.cloud/IBM-DS0321EN-SkillsNetwork/datasets/spacex_launch_dash.csv\n",
            "Resolving cf-courses-data.s3.us.cloud-object-storage.appdomain.cloud (cf-courses-data.s3.us.cloud-object-storage.appdomain.cloud)... 198.23.119.245\n",
            "Connecting to cf-courses-data.s3.us.cloud-object-storage.appdomain.cloud (cf-courses-data.s3.us.cloud-object-storage.appdomain.cloud)|198.23.119.245|:443... connected.\n",
            "HTTP request sent, awaiting response... 200 OK\n",
            "Length: 3033 (3.0K) [text/csv]\n",
            "Saving to: ‘spacex_launch_dash.csv.1’\n",
            "\n",
            "spacex_launch_dash. 100%[===================>]   2.96K  --.-KB/s    in 0s      \n",
            "\n",
            "2022-02-04 21:02:45 (732 MB/s) - ‘spacex_launch_dash.csv.1’ saved [3033/3033]\n",
            "\n"
          ]
        }
      ]
    },
    {
      "cell_type": "code",
      "source": [
        "# Brendan's Note: I figured out how to launch a web app in colab! Cool beans :).\n",
        "\n",
        "from google.colab.output import eval_js\n",
        "print(eval_js(\"google.colab.kernel.proxyPort(8050)\"))"
      ],
      "metadata": {
        "colab": {
          "base_uri": "https://localhost:8080/",
          "height": 34
        },
        "id": "9o8wZpooaqtq",
        "outputId": "0bdbd9f1-5995-4a9b-bdd0-6eecc5268b83"
      },
      "execution_count": null,
      "outputs": [
        {
          "output_type": "stream",
          "name": "stdout",
          "text": [
            "https://x64uzyd2lv-496ff2e9c6d22116-8050-colab.googleusercontent.com/\n"
          ]
        }
      ]
    },
    {
      "cell_type": "code",
      "source": [
        "!python3 spacex_dash_app.py"
      ],
      "metadata": {
        "colab": {
          "base_uri": "https://localhost:8080/"
        },
        "id": "Uka_hJl5ajMi",
        "outputId": "92e9499d-8910-4000-8f2f-521b972caebb"
      },
      "execution_count": null,
      "outputs": [
        {
          "output_type": "stream",
          "name": "stdout",
          "text": [
            "spacex_dash_app.py:4: UserWarning: \n",
            "The dash_html_components package is deprecated. Please replace\n",
            "`import dash_html_components as html` with `from dash import html`\n",
            "  import dash_html_components as html\n",
            "spacex_dash_app.py:5: UserWarning: \n",
            "The dash_core_components package is deprecated. Please replace\n",
            "`import dash_core_components as dcc` with `from dash import dcc`\n",
            "  import dash_core_components as dcc\n",
            "Dash is running on http://127.0.0.1:8050/\n",
            "\n",
            " * Serving Flask app \"spacex_dash_app\" (lazy loading)\n",
            " * Environment: production\n",
            "\u001b[31m   WARNING: This is a development server. Do not use it in a production deployment.\u001b[0m\n",
            "\u001b[2m   Use a production WSGI server instead.\u001b[0m\n",
            " * Debug mode: off\n",
            " * Running on http://127.0.0.1:8050/ (Press CTRL+C to quit)\n",
            "127.0.0.1 - - [04/Feb/2022 21:39:31] \"\u001b[37mGET / HTTP/1.1\u001b[0m\" 200 -\n",
            "127.0.0.1 - - [04/Feb/2022 21:39:31] \"\u001b[37mGET /_dash-component-suites/dash/deps/polyfill@7.v2_1_0m1644006256.12.1.min.js HTTP/1.1\u001b[0m\" 200 -\n",
            "127.0.0.1 - - [04/Feb/2022 21:39:31] \"\u001b[37mGET /_dash-component-suites/dash/dash-renderer/build/dash_renderer.v2_1_0m1644006256.min.js HTTP/1.1\u001b[0m\" 200 -\n",
            "127.0.0.1 - - [04/Feb/2022 21:39:31] \"\u001b[37mGET /_dash-component-suites/dash/deps/react@16.v2_1_0m1644006256.14.0.min.js HTTP/1.1\u001b[0m\" 200 -\n",
            "127.0.0.1 - - [04/Feb/2022 21:39:31] \"\u001b[37mGET /_dash-component-suites/dash/deps/react-dom@16.v2_1_0m1644006256.14.0.min.js HTTP/1.1\u001b[0m\" 200 -\n",
            "127.0.0.1 - - [04/Feb/2022 21:39:31] \"\u001b[37mGET /_dash-component-suites/dash/dcc/dash_core_components.v2_1_0m1644006256.js HTTP/1.1\u001b[0m\" 200 -\n",
            "127.0.0.1 - - [04/Feb/2022 21:39:31] \"\u001b[37mGET /_dash-component-suites/dash/deps/prop-types@15.v2_1_0m1644006256.7.2.min.js HTTP/1.1\u001b[0m\" 200 -\n",
            "127.0.0.1 - - [04/Feb/2022 21:39:31] \"\u001b[37mGET /_dash-component-suites/dash/html/dash_html_components.v2_0_1m1644006256.min.js HTTP/1.1\u001b[0m\" 200 -\n",
            "127.0.0.1 - - [04/Feb/2022 21:39:31] \"\u001b[37mGET /_dash-component-suites/dash/dcc/dash_core_components-shared.v2_1_0m1644006256.js HTTP/1.1\u001b[0m\" 200 -\n",
            "127.0.0.1 - - [04/Feb/2022 21:39:31] \"\u001b[37mGET /_dash-component-suites/dash/dash_table/bundle.v5_1_0m1644006256.js HTTP/1.1\u001b[0m\" 200 -\n",
            "127.0.0.1 - - [04/Feb/2022 21:39:31] \"\u001b[37mGET /_dash-layout HTTP/1.1\u001b[0m\" 200 -\n",
            "127.0.0.1 - - [04/Feb/2022 21:39:31] \"\u001b[37mGET /_dash-dependencies HTTP/1.1\u001b[0m\" 200 -\n",
            "127.0.0.1 - - [04/Feb/2022 21:39:31] \"\u001b[37mGET /_dash-component-suites/dash/dcc/async-dropdown.js HTTP/1.1\u001b[0m\" 200 -\n",
            "127.0.0.1 - - [04/Feb/2022 21:39:31] \"\u001b[37mGET /_dash-component-suites/dash/dcc/async-plotlyjs.js HTTP/1.1\u001b[0m\" 200 -\n",
            "127.0.0.1 - - [04/Feb/2022 21:39:31] \"\u001b[37mGET /_dash-component-suites/dash/dcc/async-graph.js HTTP/1.1\u001b[0m\" 200 -\n",
            "127.0.0.1 - - [04/Feb/2022 21:39:32] \"\u001b[37mPOST /_dash-update-component HTTP/1.1\u001b[0m\" 200 -\n",
            "127.0.0.1 - - [04/Feb/2022 21:39:33] \"\u001b[37mPOST /_dash-update-component HTTP/1.1\u001b[0m\" 200 -\n",
            "127.0.0.1 - - [04/Feb/2022 21:39:37] \"\u001b[37mPOST /_dash-update-component HTTP/1.1\u001b[0m\" 200 -\n",
            "127.0.0.1 - - [04/Feb/2022 21:39:38] \"\u001b[37mPOST /_dash-update-component HTTP/1.1\u001b[0m\" 200 -\n",
            "127.0.0.1 - - [04/Feb/2022 21:39:40] \"\u001b[37mPOST /_dash-update-component HTTP/1.1\u001b[0m\" 200 -\n"
          ]
        }
      ]
    },
    {
      "cell_type": "markdown",
      "source": [
        "# New Section"
      ],
      "metadata": {
        "id": "WfdJdUxYavvT"
      }
    }
  ]
}