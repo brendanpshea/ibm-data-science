{
  "nbformat": 4,
  "nbformat_minor": 0,
  "metadata": {
    "colab": {
      "name": "Build a Dashboard Application with Plotly Dash.ipynb",
      "provenance": [],
      "collapsed_sections": [],
      "authorship_tag": "ABX9TyMMKX99A0LMAQ06Cvi8S6RZ",
      "include_colab_link": true
    },
    "kernelspec": {
      "name": "python3",
      "display_name": "Python 3"
    },
    "language_info": {
      "name": "python"
    }
  },
  "cells": [
    {
      "cell_type": "markdown",
      "metadata": {
        "id": "view-in-github",
        "colab_type": "text"
      },
      "source": [
        "<a href=\"https://colab.research.google.com/github/brendanpshea/ibm-data-science/blob/main/Build_a_Dashboard_Application_with_Plotly_Dash.ipynb\" target=\"_parent\"><img src=\"https://colab.research.google.com/assets/colab-badge.svg\" alt=\"Open In Colab\"/></a>"
      ]
    },
    {
      "cell_type": "markdown",
      "source": [
        "#Project: Build a Dashboard Application with Plotly Dash\n",
        "##Brendan Shea (Ph.D.), brendanpshea@gmail.com\n",
        "Completed as part of the required coursework \"IBM Data Science Professional Certificate.\" \n",
        "\n",
        "Additions:\n",
        "1. I created the ability to run the webapp directly from the notebook.\n",
        "2. As part of this, it retrieves my completed python code for the webapp"
      ],
      "metadata": {
        "id": "tg2mZgl0orkk"
      }
    },
    {
      "cell_type": "markdown",
      "source": [
        "Install required packages for lab."
      ],
      "metadata": {
        "id": "r1FOZd44aQTV"
      }
    },
    {
      "cell_type": "code",
      "execution_count": 1,
      "metadata": {
        "colab": {
          "base_uri": "https://localhost:8080/"
        },
        "id": "TAfHIHTuZ7cB",
        "outputId": "5dcb515d-fd89-4793-beb8-e9e8ad0a30b3"
      },
      "outputs": [
        {
          "output_type": "stream",
          "name": "stdout",
          "text": [
            "\u001b[K     |████████████████████████████████| 7.4 MB 3.7 MB/s \n",
            "\u001b[K     |████████████████████████████████| 357 kB 48.5 MB/s \n",
            "\u001b[?25h  Building wheel for dash-core-components (setup.py) ... \u001b[?25l\u001b[?25hdone\n",
            "  Building wheel for dash-html-components (setup.py) ... \u001b[?25l\u001b[?25hdone\n",
            "  Building wheel for dash-table (setup.py) ... \u001b[?25l\u001b[?25hdone\n",
            "  Building wheel for wget (setup.py) ... \u001b[?25l\u001b[?25hdone\n"
          ]
        }
      ],
      "source": [
        "!pip install pandas dash -q\n",
        "!pip install wget -q"
      ]
    },
    {
      "cell_type": "markdown",
      "source": [
        "Now, download needed files."
      ],
      "metadata": {
        "id": "TeHJ13IWaRtc"
      }
    },
    {
      "cell_type": "code",
      "source": [
        "#!wget \"https://raw.githubusercontent.com/brendanpshea/ibm-data-science/main/spacex_dash_app.py\"\n",
        "# !wget \"https://raw.githubusercontent.com/brendanpshea/ibm-data-science/main/spacex_launch_dash.csv\"\n",
        "\n",
        "!wget \"https://raw.githubusercontent.com/brendanpshea/ibm-data-science/main/spacex_launch_dash.csv\"\n",
        "!wget \"https://raw.githubusercontent.com/brendanpshea/ibm-data-science/main/spacex_dash_app.py\""
      ],
      "metadata": {
        "id": "FIWB8MjIafws"
      },
      "execution_count": 2,
      "outputs": []
    },
    {
      "cell_type": "code",
      "source": [
        "# Brendan's Note: I figured out how to launch a web app in colab! Cool beans :).\n",
        "\n",
        "from google.colab.output import eval_js\n",
        "print(eval_js(\"google.colab.kernel.proxyPort(8050)\"))"
      ],
      "metadata": {
        "colab": {
          "base_uri": "https://localhost:8080/",
          "height": 34
        },
        "id": "9o8wZpooaqtq",
        "outputId": "705366a5-ff48-4d76-aabc-1ba9e4dae2bb"
      },
      "execution_count": 3,
      "outputs": [
        {
          "output_type": "stream",
          "name": "stdout",
          "text": [
            "https://ute4mcwyyv-496ff2e9c6d22116-8050-colab.googleusercontent.com/\n"
          ]
        }
      ]
    },
    {
      "cell_type": "code",
      "source": [
        "!python3 spacex_dash_app.py"
      ],
      "metadata": {
        "colab": {
          "base_uri": "https://localhost:8080/"
        },
        "id": "Uka_hJl5ajMi",
        "outputId": "c192515e-179b-407a-a57f-13c686c509bf"
      },
      "execution_count": 4,
      "outputs": [
        {
          "output_type": "stream",
          "name": "stdout",
          "text": [
            "python3: can't open file 'spacex_dash_app.py': [Errno 2] No such file or directory\n"
          ]
        }
      ]
    },
    {
      "cell_type": "markdown",
      "source": [
        "# New Section"
      ],
      "metadata": {
        "id": "WfdJdUxYavvT"
      }
    }
  ]
}