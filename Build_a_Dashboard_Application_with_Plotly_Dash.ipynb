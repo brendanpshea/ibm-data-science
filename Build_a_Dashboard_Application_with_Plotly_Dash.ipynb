{
  "nbformat": 4,
  "nbformat_minor": 0,
  "metadata": {
    "colab": {
      "name": "Build a Dashboard Application with Plotly Dash.ipynb",
      "provenance": [],
      "collapsed_sections": [],
      "authorship_tag": "ABX9TyNN4wW9MeZX1EUpx1HDvvbn",
      "include_colab_link": true
    },
    "kernelspec": {
      "name": "python3",
      "display_name": "Python 3"
    },
    "language_info": {
      "name": "python"
    }
  },
  "cells": [
    {
      "cell_type": "markdown",
      "metadata": {
        "id": "view-in-github",
        "colab_type": "text"
      },
      "source": [
        "<a href=\"https://colab.research.google.com/github/brendanpshea/ibm-data-science/blob/main/Build_a_Dashboard_Application_with_Plotly_Dash.ipynb\" target=\"_parent\"><img src=\"https://colab.research.google.com/assets/colab-badge.svg\" alt=\"Open In Colab\"/></a>"
      ]
    },
    {
      "cell_type": "markdown",
      "source": [
        "#Project: Build a Dashboard Application with Plotly Dash\n",
        "##Brendan Shea (Ph.D.), brendanpshea@gmail.com\n",
        "Completed as part of the required coursework \"IBM Data Science Professional Certificate.\" \n",
        "\n",
        "Additions:\n",
        "1. I created the ability to run the webapp directly from the notebook.\n",
        "2. As part of this, it retrieves my completed python code for the webapp\n",
        "\n",
        "NOTE: To launch the webapp, you willl need to \"run all\" of the code, and then click on the link for the webapp on the \"Remote Server\" (see below)."
      ],
      "metadata": {
        "id": "tg2mZgl0orkk"
      }
    },
    {
      "cell_type": "markdown",
      "source": [
        "Install required packages for lab."
      ],
      "metadata": {
        "id": "r1FOZd44aQTV"
      }
    },
    {
      "cell_type": "code",
      "execution_count": 1,
      "metadata": {
        "id": "TAfHIHTuZ7cB",
        "outputId": "0b7492c2-7ef1-4662-92a9-4752abcb30e8",
        "colab": {
          "base_uri": "https://localhost:8080/"
        }
      },
      "outputs": [
        {
          "output_type": "stream",
          "name": "stdout",
          "text": [
            "\u001b[K     |████████████████████████████████| 7.4 MB 9.0 MB/s \n",
            "\u001b[K     |████████████████████████████████| 357 kB 40.9 MB/s \n",
            "\u001b[?25h  Building wheel for dash-core-components (setup.py) ... \u001b[?25l\u001b[?25hdone\n",
            "  Building wheel for dash-html-components (setup.py) ... \u001b[?25l\u001b[?25hdone\n",
            "  Building wheel for dash-table (setup.py) ... \u001b[?25l\u001b[?25hdone\n",
            "  Building wheel for wget (setup.py) ... \u001b[?25l\u001b[?25hdone\n"
          ]
        }
      ],
      "source": [
        "# Uncomment these lines if dash or wget are not installed\n",
        "# !pip install pandas dash -q\n",
        "# !pip install wget -q"
      ]
    },
    {
      "cell_type": "markdown",
      "source": [
        "Now, download needed files."
      ],
      "metadata": {
        "id": "TeHJ13IWaRtc"
      }
    },
    {
      "cell_type": "code",
      "source": [
        "#!wget \"https://raw.githubusercontent.com/brendanpshea/ibm-data-science/main/spacex_dash_app.py\"\n",
        "# !wget \"https://raw.githubusercontent.com/brendanpshea/ibm-data-science/main/spacex_launch_dash.csv\"\n",
        "\n",
        "!wget \"https://raw.githubusercontent.com/brendanpshea/ibm-data-science/main/spacex_launch_dash.csv\"\n",
        "!wget \"https://raw.githubusercontent.com/brendanpshea/ibm-data-science/main/spacex_dash_app.py\""
      ],
      "metadata": {
        "id": "FIWB8MjIafws",
        "colab": {
          "base_uri": "https://localhost:8080/"
        },
        "outputId": "5cbe4899-75ac-4e8f-e1cc-4a08c713860b"
      },
      "execution_count": 2,
      "outputs": [
        {
          "output_type": "stream",
          "name": "stdout",
          "text": [
            "--2022-02-10 15:07:49--  https://raw.githubusercontent.com/brendanpshea/ibm-data-science/main/spacex_launch_dash.csv\n",
            "Resolving raw.githubusercontent.com (raw.githubusercontent.com)... 185.199.108.133, 185.199.109.133, 185.199.110.133, ...\n",
            "Connecting to raw.githubusercontent.com (raw.githubusercontent.com)|185.199.108.133|:443... connected.\n",
            "HTTP request sent, awaiting response... 200 OK\n",
            "Length: 3033 (3.0K) [text/plain]\n",
            "Saving to: ‘spacex_launch_dash.csv’\n",
            "\n",
            "\rspacex_launch_dash.   0%[                    ]       0  --.-KB/s               \rspacex_launch_dash. 100%[===================>]   2.96K  --.-KB/s    in 0s      \n",
            "\n",
            "2022-02-10 15:07:50 (35.0 MB/s) - ‘spacex_launch_dash.csv’ saved [3033/3033]\n",
            "\n",
            "--2022-02-10 15:07:50--  https://raw.githubusercontent.com/brendanpshea/ibm-data-science/main/spacex_dash_app.py\n",
            "Resolving raw.githubusercontent.com (raw.githubusercontent.com)... 185.199.108.133, 185.199.109.133, 185.199.110.133, ...\n",
            "Connecting to raw.githubusercontent.com (raw.githubusercontent.com)|185.199.108.133|:443... connected.\n",
            "HTTP request sent, awaiting response... 200 OK\n",
            "Length: 5107 (5.0K) [text/plain]\n",
            "Saving to: ‘spacex_dash_app.py’\n",
            "\n",
            "spacex_dash_app.py  100%[===================>]   4.99K  --.-KB/s    in 0s      \n",
            "\n",
            "2022-02-10 15:07:50 (59.0 MB/s) - ‘spacex_dash_app.py’ saved [5107/5107]\n",
            "\n"
          ]
        }
      ]
    },
    {
      "cell_type": "markdown",
      "source": [
        "## Link to Webapp Running on Remote Server\n",
        "The output of the following cell provides a link to Flask/Dash webapp (once it has been launched). If you are running this from Colab, use this link."
      ],
      "metadata": {
        "id": "8jhQl3c9q_GC"
      }
    },
    {
      "cell_type": "code",
      "source": [
        "\n",
        "\n",
        "from google.colab.output import eval_js\n",
        "print(eval_js(\"google.colab.kernel.proxyPort(8050)\"))"
      ],
      "metadata": {
        "colab": {
          "base_uri": "https://localhost:8080/",
          "height": 34
        },
        "id": "9o8wZpooaqtq",
        "outputId": "e95ad57f-025e-4444-dca4-466862f45ecd"
      },
      "execution_count": 3,
      "outputs": [
        {
          "output_type": "stream",
          "name": "stdout",
          "text": [
            "https://k12who3tbb-496ff2e9c6d22116-8050-colab.googleusercontent.com/\n"
          ]
        }
      ]
    },
    {
      "cell_type": "markdown",
      "source": [
        "## Link to Webapp on Local Server\n",
        "The following cell starts the webapp. The link it provides assuming were are running this on a local machine (which we aren't). So, don't click on it!"
      ],
      "metadata": {
        "id": "PrnxdRpfrdqS"
      }
    },
    {
      "cell_type": "code",
      "source": [
        "!python3 spacex_dash_app.py"
      ],
      "metadata": {
        "colab": {
          "base_uri": "https://localhost:8080/"
        },
        "id": "Uka_hJl5ajMi",
        "outputId": "19c00938-fc03-4f9a-d7c7-b7701d6fd2c6"
      },
      "execution_count": null,
      "outputs": [
        {
          "output_type": "stream",
          "name": "stdout",
          "text": [
            "spacex_dash_app.py:4: UserWarning: \n",
            "The dash_html_components package is deprecated. Please replace\n",
            "`import dash_html_components as html` with `from dash import html`\n",
            "  import dash_html_components as html\n",
            "spacex_dash_app.py:5: UserWarning: \n",
            "The dash_core_components package is deprecated. Please replace\n",
            "`import dash_core_components as dcc` with `from dash import dcc`\n",
            "  import dash_core_components as dcc\n",
            "Dash is running on http://127.0.0.1:8050/\n",
            "\n",
            " * Serving Flask app \"spacex_dash_app\" (lazy loading)\n",
            " * Environment: production\n",
            "\u001b[31m   WARNING: This is a development server. Do not use it in a production deployment.\u001b[0m\n",
            "\u001b[2m   Use a production WSGI server instead.\u001b[0m\n",
            " * Debug mode: off\n",
            " * Running on http://127.0.0.1:8050/ (Press CTRL+C to quit)\n",
            "127.0.0.1 - - [10/Feb/2022 15:08:59] \"\u001b[37mGET / HTTP/1.1\u001b[0m\" 200 -\n",
            "127.0.0.1 - - [10/Feb/2022 15:08:59] \"\u001b[37mGET /_dash-component-suites/dash/deps/polyfill@7.v2_1_0m1644505664.12.1.min.js HTTP/1.1\u001b[0m\" 200 -\n",
            "127.0.0.1 - - [10/Feb/2022 15:08:59] \"\u001b[37mGET /_dash-component-suites/dash/deps/react@16.v2_1_0m1644505664.14.0.min.js HTTP/1.1\u001b[0m\" 200 -\n",
            "127.0.0.1 - - [10/Feb/2022 15:08:59] \"\u001b[37mGET /_dash-component-suites/dash/deps/react-dom@16.v2_1_0m1644505664.14.0.min.js HTTP/1.1\u001b[0m\" 200 -\n",
            "127.0.0.1 - - [10/Feb/2022 15:08:59] \"\u001b[37mGET /_dash-component-suites/dash/deps/prop-types@15.v2_1_0m1644505664.7.2.min.js HTTP/1.1\u001b[0m\" 200 -\n",
            "127.0.0.1 - - [10/Feb/2022 15:08:59] \"\u001b[37mGET /_dash-component-suites/dash/dcc/dash_core_components.v2_1_0m1644505664.js HTTP/1.1\u001b[0m\" 200 -\n",
            "127.0.0.1 - - [10/Feb/2022 15:08:59] \"\u001b[37mGET /_dash-component-suites/dash/dash-renderer/build/dash_renderer.v2_1_0m1644505664.min.js HTTP/1.1\u001b[0m\" 200 -\n",
            "127.0.0.1 - - [10/Feb/2022 15:08:59] \"\u001b[37mGET /_dash-component-suites/dash/dcc/dash_core_components-shared.v2_1_0m1644505664.js HTTP/1.1\u001b[0m\" 200 -\n",
            "127.0.0.1 - - [10/Feb/2022 15:08:59] \"\u001b[37mGET /_dash-component-suites/dash/html/dash_html_components.v2_0_1m1644505664.min.js HTTP/1.1\u001b[0m\" 200 -\n",
            "127.0.0.1 - - [10/Feb/2022 15:08:59] \"\u001b[37mGET /_dash-component-suites/dash/dash_table/bundle.v5_1_0m1644505664.js HTTP/1.1\u001b[0m\" 200 -\n",
            "127.0.0.1 - - [10/Feb/2022 15:09:00] \"\u001b[37mGET /_dash-layout HTTP/1.1\u001b[0m\" 200 -\n",
            "127.0.0.1 - - [10/Feb/2022 15:09:00] \"\u001b[37mGET /_dash-dependencies HTTP/1.1\u001b[0m\" 200 -\n",
            "127.0.0.1 - - [10/Feb/2022 15:09:00] \"\u001b[37mGET /_favicon.ico?v=2.1.0 HTTP/1.1\u001b[0m\" 200 -\n",
            "127.0.0.1 - - [10/Feb/2022 15:09:00] \"\u001b[37mGET /_dash-component-suites/dash/dcc/async-dropdown.js HTTP/1.1\u001b[0m\" 200 -\n",
            "127.0.0.1 - - [10/Feb/2022 15:09:00] \"\u001b[37mGET /_dash-component-suites/dash/dcc/async-plotlyjs.js HTTP/1.1\u001b[0m\" 200 -\n",
            "127.0.0.1 - - [10/Feb/2022 15:09:01] \"\u001b[37mGET /_dash-component-suites/dash/dcc/async-slider.js HTTP/1.1\u001b[0m\" 200 -\n",
            "127.0.0.1 - - [10/Feb/2022 15:09:01] \"\u001b[37mGET /_dash-component-suites/dash/dcc/async-graph.js HTTP/1.1\u001b[0m\" 200 -\n",
            "127.0.0.1 - - [10/Feb/2022 15:09:02] \"\u001b[37mPOST /_dash-update-component HTTP/1.1\u001b[0m\" 200 -\n",
            "127.0.0.1 - - [10/Feb/2022 15:09:02] \"\u001b[37mPOST /_dash-update-component HTTP/1.1\u001b[0m\" 200 -\n",
            "127.0.0.1 - - [10/Feb/2022 15:13:59] \"\u001b[37mGET / HTTP/1.1\u001b[0m\" 200 -\n",
            "127.0.0.1 - - [10/Feb/2022 15:13:59] \"\u001b[37mGET /_dash-component-suites/dash/deps/react@16.v2_1_0m1644505664.14.0.min.js HTTP/1.1\u001b[0m\" 200 -\n",
            "127.0.0.1 - - [10/Feb/2022 15:13:59] \"\u001b[37mGET /_dash-component-suites/dash/deps/polyfill@7.v2_1_0m1644505664.12.1.min.js HTTP/1.1\u001b[0m\" 200 -\n",
            "127.0.0.1 - - [10/Feb/2022 15:13:59] \"\u001b[37mGET /_dash-component-suites/dash/html/dash_html_components.v2_0_1m1644505664.min.js HTTP/1.1\u001b[0m\" 200 -\n",
            "127.0.0.1 - - [10/Feb/2022 15:13:59] \"\u001b[37mGET /_dash-component-suites/dash/deps/prop-types@15.v2_1_0m1644505664.7.2.min.js HTTP/1.1\u001b[0m\" 200 -\n",
            "127.0.0.1 - - [10/Feb/2022 15:13:59] \"\u001b[37mGET /_dash-component-suites/dash/deps/react-dom@16.v2_1_0m1644505664.14.0.min.js HTTP/1.1\u001b[0m\" 200 -\n",
            "127.0.0.1 - - [10/Feb/2022 15:13:59] \"\u001b[37mGET /_dash-component-suites/dash/dash-renderer/build/dash_renderer.v2_1_0m1644505664.min.js HTTP/1.1\u001b[0m\" 200 -\n",
            "127.0.0.1 - - [10/Feb/2022 15:13:59] \"\u001b[37mGET /_dash-component-suites/dash/dash_table/bundle.v5_1_0m1644505664.js HTTP/1.1\u001b[0m\" 200 -\n",
            "127.0.0.1 - - [10/Feb/2022 15:13:59] \"\u001b[37mGET /_dash-component-suites/dash/dcc/dash_core_components-shared.v2_1_0m1644505664.js HTTP/1.1\u001b[0m\" 200 -\n",
            "127.0.0.1 - - [10/Feb/2022 15:13:59] \"\u001b[37mGET /_dash-component-suites/dash/dcc/dash_core_components.v2_1_0m1644505664.js HTTP/1.1\u001b[0m\" 200 -\n",
            "127.0.0.1 - - [10/Feb/2022 15:14:01] \"\u001b[37mGET /_dash-layout HTTP/1.1\u001b[0m\" 200 -\n",
            "127.0.0.1 - - [10/Feb/2022 15:14:01] \"\u001b[37mGET /_dash-dependencies HTTP/1.1\u001b[0m\" 200 -\n",
            "127.0.0.1 - - [10/Feb/2022 15:14:01] \"\u001b[37mGET /_dash-component-suites/dash/dcc/async-slider.js HTTP/1.1\u001b[0m\" 200 -\n",
            "127.0.0.1 - - [10/Feb/2022 15:14:01] \"\u001b[37mGET /_dash-component-suites/dash/dcc/async-graph.js HTTP/1.1\u001b[0m\" 200 -\n",
            "127.0.0.1 - - [10/Feb/2022 15:14:01] \"\u001b[37mGET /_dash-component-suites/dash/dcc/async-dropdown.js HTTP/1.1\u001b[0m\" 200 -\n",
            "127.0.0.1 - - [10/Feb/2022 15:14:01] \"\u001b[37mPOST /_dash-update-component HTTP/1.1\u001b[0m\" 200 -\n",
            "127.0.0.1 - - [10/Feb/2022 15:14:01] \"\u001b[37mGET /_dash-component-suites/dash/dcc/async-plotlyjs.js HTTP/1.1\u001b[0m\" 200 -\n",
            "127.0.0.1 - - [10/Feb/2022 15:14:01] \"\u001b[37mPOST /_dash-update-component HTTP/1.1\u001b[0m\" 200 -\n",
            "127.0.0.1 - - [10/Feb/2022 15:15:31] \"\u001b[37mPOST /_dash-update-component HTTP/1.1\u001b[0m\" 200 -\n",
            "127.0.0.1 - - [10/Feb/2022 15:15:38] \"\u001b[37mPOST /_dash-update-component HTTP/1.1\u001b[0m\" 200 -\n"
          ]
        }
      ]
    }
  ]
}